{
  "nbformat": 4,
  "nbformat_minor": 0,
  "metadata": {
    "colab": {
      "name": "Untitled6.ipynb",
      "provenance": [],
      "authorship_tag": "ABX9TyNcOzRwtluTP6t3KXffNxjS",
      "include_colab_link": true
    },
    "kernelspec": {
      "name": "python3",
      "display_name": "Python 3"
    }
  },
  "cells": [
    {
      "cell_type": "markdown",
      "metadata": {
        "id": "view-in-github",
        "colab_type": "text"
      },
      "source": [
        "<a href=\"https://colab.research.google.com/github/03dipak/INSAIDCapstone1/blob/master/data.ipynb\" target=\"_parent\"><img src=\"https://colab.research.google.com/assets/colab-badge.svg\" alt=\"Open In Colab\"/></a>"
      ]
    },
    {
      "cell_type": "code",
      "metadata": {
        "id": "3zfzVUzmYWOU",
        "colab_type": "code",
        "colab": {}
      },
      "source": [
        "!pip install MySQL-python\n",
        "!pip install mysql-connector-python\n",
        "!pip install pymysql"
      ],
      "execution_count": 0,
      "outputs": []
    },
    {
      "cell_type": "code",
      "metadata": {
        "id": "odUum2aRWBcZ",
        "colab_type": "code",
        "colab": {}
      },
      "source": [
        "import mysql.connector\n",
        "import pandas as pd\n",
        "import pymysql"
      ],
      "execution_count": 0,
      "outputs": []
    },
    {
      "cell_type": "code",
      "metadata": {
        "id": "TXbVbeCHYQAQ",
        "colab_type": "code",
        "colab": {
          "base_uri": "https://localhost:8080/",
          "height": 34
        },
        "outputId": "e799c874-7c4d-4450-ebfc-7cb9768fe16c"
      },
      "source": [
        "\n",
        "\n",
        "print(mydb)"
      ],
      "execution_count": 18,
      "outputs": [
        {
          "output_type": "stream",
          "text": [
            "<mysql.connector.connection_cext.CMySQLConnection object at 0x7f643d4060f0>\n"
          ],
          "name": "stdout"
        }
      ]
    },
    {
      "cell_type": "code",
      "metadata": {
        "id": "fN-OQ9ceoACc",
        "colab_type": "code",
        "colab": {
          "base_uri": "https://localhost:8080/",
          "height": 68
        },
        "outputId": "c8477cd0-ed13-4760-fb3f-ae212100ea9d"
      },
      "source": [
        "mycursor = mydb.cursor()\n",
        "\n",
        "mycursor.execute(\"SHOW TABLES\")\n",
        "\n",
        "for x in mycursor:\n",
        "  print(x)"
      ],
      "execution_count": 9,
      "outputs": [
        {
          "output_type": "stream",
          "text": [
            "('events_data',)\n",
            "('gender_age_train',)\n",
            "('phone_brand_device_model',)\n"
          ],
          "name": "stdout"
        }
      ]
    },
    {
      "cell_type": "code",
      "metadata": {
        "id": "CelgHiZwoSCL",
        "colab_type": "code",
        "colab": {}
      },
      "source": [
        "myTable = ['events_data','gender_age_train','phone_brand_device_model']\n",
        "for x in mycursor:\n",
        "  "
      ],
      "execution_count": 0,
      "outputs": []
    },
    {
      "cell_type": "code",
      "metadata": {
        "id": "Hy5DHq8drcEC",
        "colab_type": "code",
        "colab": {
          "base_uri": "https://localhost:8080/",
          "height": 357
        },
        "outputId": "ff56ccdf-622b-4abd-9fd5-64cc1363ef84"
      },
      "source": [
        "mydb = mysql.connector.connect(\n",
        "  host=\"cpanel.insaid.co\",\n",
        "  user=\"student\",\n",
        "  passwd=\"student\",\n",
        "  database=\"Capstone1\"\n",
        ")\n",
        "\n",
        "mycursor = mydb.cursor()\n",
        "mycursor.execute(\"SELECT * FROM events_data limit 20\")\n",
        "#mycursor.execute(\"DESC events_data\")\n",
        "\n",
        "myresult = mycursor.fetchall()\n",
        "\n",
        "for x in myresult:\n",
        "  print(x)"
      ],
      "execution_count": 26,
      "outputs": [
        {
          "output_type": "stream",
          "text": [
            "(1, 29182687948017175, datetime.datetime(2016, 5, 1, 0, 55, 25), 77.266052, 28.68161, 'Delhi', 'Delhi')\n",
            "(7104, 29182687948017175, datetime.datetime(2016, 5, 2, 9, 37, 2), 77.266052, 28.68161, 'Delhi', 'Delhi')\n",
            "(29661, 29182687948017175, datetime.datetime(2016, 5, 4, 0, 56, 4), 77.266052, 28.68161, 'Delhi', 'Delhi')\n",
            "(33133, 29182687948017175, datetime.datetime(2016, 5, 6, 5, 1, 15), 77.266052, 28.68161, 'Delhi', 'Delhi')\n",
            "(38980, 29182687948017175, datetime.datetime(2016, 5, 6, 9, 55, 4), 77.266052, 28.68161, 'Delhi', 'Delhi')\n",
            "(66398, 29182687948017175, datetime.datetime(2016, 5, 1, 1, 56, 6), 77.266052, 28.68161, 'Delhi', 'Delhi')\n",
            "(70894, 29182687948017175, datetime.datetime(2016, 5, 6, 1, 14, 46), 77.266052, 28.68161, 'Delhi', 'Delhi')\n",
            "(87185, 29182687948017175, datetime.datetime(2016, 5, 1, 9, 20, 1), 77.266052, 28.68161, 'Delhi', 'Delhi')\n",
            "(94644, 29182687948017175, datetime.datetime(2016, 5, 7, 7, 16, 35), 77.266052, 28.68161, 'Delhi', 'Delhi')\n",
            "(110018, 29182687948017175, datetime.datetime(2016, 5, 6, 21, 0, 40), 77.266052, 28.68161, 'Delhi', 'Delhi')\n",
            "(120190, 29182687948017175, datetime.datetime(2016, 5, 2, 0, 20, 38), 77.266052, 28.68161, 'Delhi', 'Delhi')\n",
            "(120191, 29182687948017175, datetime.datetime(2016, 5, 2, 0, 21, 3), 77.266052, 28.68161, 'Delhi', 'Delhi')\n",
            "(162735, 29182687948017175, datetime.datetime(2016, 5, 4, 2, 19, 36), 77.266052, 28.68161, 'Delhi', 'Delhi')\n",
            "(184478, 29182687948017175, datetime.datetime(2016, 5, 5, 19, 14, 9), 77.266052, 28.68161, 'Delhi', 'Delhi')\n",
            "(191673, 29182687948017175, datetime.datetime(2016, 5, 1, 5, 24, 36), 77.266052, 28.68161, 'Delhi', 'Delhi')\n",
            "(217601, 29182687948017175, datetime.datetime(2016, 5, 3, 6, 55, 14), 77.266052, 28.68161, 'Delhi', 'Delhi')\n",
            "(273512, 29182687948017175, datetime.datetime(2016, 5, 2, 9, 35, 49), 77.266052, 28.68161, 'Delhi', 'Delhi')\n",
            "(273615, 29182687948017175, datetime.datetime(2016, 5, 2, 9, 31, 50), 77.266052, 28.68161, 'Delhi', 'Delhi')\n",
            "(292765, 29182687948017175, datetime.datetime(2016, 5, 6, 0, 9, 45), 77.266052, 28.68161, 'Delhi', 'Delhi')\n",
            "(293807, 29182687948017175, datetime.datetime(2016, 5, 1, 2, 53, 31), 77.266052, 28.68161, 'Delhi', 'Delhi')\n"
          ],
          "name": "stdout"
        }
      ]
    },
    {
      "cell_type": "code",
      "metadata": {
        "id": "rUnpBj-Zrg9O",
        "colab_type": "code",
        "colab": {
          "base_uri": "https://localhost:8080/",
          "height": 357
        },
        "outputId": "0668fb8f-b919-4cc3-8cdb-7bf00207dece"
      },
      "source": [
        "mydb = mysql.connector.connect(\n",
        "  host=\"cpanel.insaid.co\",\n",
        "  user=\"student\",\n",
        "  passwd=\"student\",\n",
        "  database=\"Capstone1\"\n",
        ")\n",
        "\n",
        "mycursor = mydb.cursor()\n",
        "mycursor.execute(\"SELECT * FROM phone_brand_device_model limit 20\")\n",
        "#mycursor.execute(\"DESC phone_brand_device_model\")\n",
        "\n",
        "myresult = mycursor.fetchall()\n",
        "\n",
        "for x in myresult:\n",
        "  print(x)\n",
        " "
      ],
      "execution_count": 27,
      "outputs": [
        {
          "output_type": "stream",
          "text": [
            "(1877775838486905855, 'vivo', 'Y13')\n",
            "(-3766087376657242966, '小米', 'V183')\n",
            "(-6238937574958215831, 'OPPO', 'R7s')\n",
            "(8973197758510677470, '三星', 'A368t')\n",
            "(-2015528097870762664, '小米', '红米Note2')\n",
            "(-8896952452425303597, '小米', '红米Note3')\n",
            "(-2634171391322875113, '小米', 'S5.1')\n",
            "(-2526386806972133373, '三星', 'Galaxy Grand Prime')\n",
            "(1427934937997164515, '小米', 'MI 2S')\n",
            "(2866484947180243791, '三星', 'Galaxy Note 2')\n",
            "(-1788272684905942357, 'OPPO', 'R1C')\n",
            "(3888046152514759348, '酷派', '大神F1Plus')\n",
            "(-8290049751573565686, '小米', 'note顶配版')\n",
            "(7566850031220622843, '三星', 'Galaxy Mega 2')\n",
            "(7702755134578190493, '联想 ', '星星1号')\n",
            "(2210317512148990062, '三星', 'Galaxy S4')\n",
            "(6413840150233100470, '小米', 'MI 3')\n",
            "(-7157178797095341985, 'OPPO', 'Find 7')\n",
            "(3773929364530635568, '三星', 'Galaxy S4')\n",
            "(-221375520372280325, '华为', 'C8816')\n"
          ],
          "name": "stdout"
        }
      ]
    },
    {
      "cell_type": "code",
      "metadata": {
        "id": "EqJeN9Umsiz4",
        "colab_type": "code",
        "colab": {
          "base_uri": "https://localhost:8080/",
          "height": 54
        },
        "outputId": "44ecb038-9b8b-45b5-a7aa-736b4cdda41a"
      },
      "source": [
        "conn = mysql.connector.connect(\n",
        "  host=\"cpanel.insaid.co\",\n",
        "  user=\"student\",\n",
        "  passwd=\"student\",\n",
        "  database=\"Capstone1\"\n",
        ")\n",
        "query = \"SELECT * FROM gender_age_train limit 20\"\n",
        "results = pandas.read_sql_query(query, conn)\n",
        "results.to_csv(\"gender_age_train.csv\", index=False)\n",
        "\n",
        "\n",
        "'''\n",
        "mycursor = mydb.cursor()\n",
        "mycursor.execute(\"SELECT * FROM gender_age_train limit 20\")\n",
        "\n",
        "myresult = mycursor.fetchall()\n",
        "\n",
        "for x in myresult:\n",
        "  print(x)\n",
        "'''"
      ],
      "execution_count": 32,
      "outputs": [
        {
          "output_type": "execute_result",
          "data": {
            "text/plain": [
              "'\\nmycursor = mydb.cursor()\\nmycursor.execute(\"SELECT * FROM gender_age_train limit 20\")\\n\\nmyresult = mycursor.fetchall()\\n\\nfor x in myresult:\\n  print(x)\\n'"
            ]
          },
          "metadata": {
            "tags": []
          },
          "execution_count": 32
        }
      ]
    },
    {
      "cell_type": "code",
      "metadata": {
        "id": "qUusaIriszBk",
        "colab_type": "code",
        "colab": {}
      },
      "source": [
        "conn = mysql.connector.connect(\n",
        "  host=\"cpanel.insaid.co\",\n",
        "  user=\"student\",\n",
        "  passwd=\"student\",\n",
        "  database=\"Capstone1\"\n",
        ")\n",
        "\n",
        "queryGenderAgeTrain = \"SELECT * FROM gender_age_train limit 20\"\n",
        "results = pandas.read_sql_query(queryGenderAgeTrain, conn)\n",
        "results.to_csv(\"gender_age_train.csv\", index=False)\n",
        "\n",
        "queryPhoneBrand = \"SELECT * FROM phone_brand_device_model limit 20\" \n",
        "results = pandas.read_sql_query(queryPhoneBrand, conn)\n",
        "results.to_csv(\"gender_age_phone_brand_device_model.csv\", index=False)\n",
        "\n",
        "queryEventData = \"SELECT * FROM events_data limit 20\"\n",
        "results = pandas.read_sql_query(queryEventData, conn)\n",
        "results.to_csv(\"events_data.csv\", index=False)\n"
      ],
      "execution_count": 0,
      "outputs": []
    },
    {
      "cell_type": "code",
      "metadata": {
        "id": "vdX94NjUQi-5",
        "colab_type": "code",
        "colab": {}
      },
      "source": [
        "conn = mysql.connector.connect(\n",
        "  host=\"cpanel.insaid.co\",\n",
        "  user=\"student\",\n",
        "  passwd=\"student\",\n",
        "  database=\"Capstone1\"\n",
        ")\n",
        "'''\n",
        "CityStatequery = 'SELECT DISTINCT city FROM events_data'\n",
        "\n",
        "results = pandas.read_sql_query(CityStatequery, conn)\n",
        "results.to_csv(\"DISTINCT_city_state_events_data.csv\", index=False)\n",
        "'''\n",
        "table_rows = db_cursor.fetchall()\n",
        "\n",
        "df = pd.DataFrame(table_rows)\n",
        "queryEventData = \"SELECT * FROM events_data\"\n",
        "results = pandas.read_sql_query(queryEventData, conn)\n",
        "results.to_csv(\"events_data_full.csv\", index=False)\n"
      ],
      "execution_count": 0,
      "outputs": []
    },
    {
      "cell_type": "code",
      "metadata": {
        "id": "eBAn7qCoTBdr",
        "colab_type": "code",
        "colab": {}
      },
      "source": [
        ""
      ],
      "execution_count": 0,
      "outputs": []
    }
  ]
}